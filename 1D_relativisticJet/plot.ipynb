{
 "cells": [
  {
   "cell_type": "code",
   "execution_count": 1,
   "metadata": {},
   "outputs": [
    {
     "data": {
      "image/png": "[encoded data removed]",
      "text/plain": [
       "<Figure size 432x288 with 1 Axes>"
      ]
     },
     "metadata": {
      "needs_background": "light"
     },
     "output_type": "display_data"
    }
   ],
   "source": [
    "%matplotlib inline\n",
    "import numpy as np\n",
    "import matplotlib.pyplot as plt\n",
    "# dummy index\n",
    "x=0;y=1;ro=2;pr=3;vx=4;vy=5;vz=6;ux=7;uy=8;uz=9;u0=10;bx=11;by=12;bz=13;ex=14;ey=15;ez=16;pt=17\n",
    "\n",
    "# reading the data...\n",
    "d1 = np.loadtxt('data/x-00000.dat')\n",
    "d2 = np.loadtxt('data/x-00002.dat')\n",
    "\n",
    "line1, = plt.plot(d1[:,x],d1[:,u0],linestyle=':',color='gray')\n",
    "line2, = plt.plot(d2[:,x],d2[:,u0],linestyle='-',color='black')\n",
    "\n",
    "plt.xlim( -0.1, 0.1)\n",
    "plt.xlabel(r'$X$',fontsize=16)\n",
    "plt.ylabel(r'$\\gamma$', fontsize=16)\n",
    "\n",
    "plt.legend( (line1, line2), ('t=0.0', 't=0.2'), loc='upper left', fontsize=14, shadow=True)\n",
    "\n",
    "#plt.tight_layout() # if necessary\n",
    "plt.show()\n",
    "#plt.savefig(\"output.png\")"
   ]
  },
  {
   "cell_type": "code",
   "execution_count": 2,
   "metadata": {},
   "outputs": [
    {
     "data": {
      "application/vnd.jupyter.widget-view+json": {
       "model_id": "9c5533022cd745eea8bcccd6c8e8aba3",
       "version_major": 2,
       "version_minor": 0
      },
      "text/plain": [
       "interactive(children=(Dropdown(description='inputdata', options=('data/x-00000.dat', 'data/x-00001.dat', 'data…"
      ]
     },
     "metadata": {},
     "output_type": "display_data"
    }
   ],
   "source": [
    "# Interactive version by jupyter-notebook / ipywidgets\n",
    "# To use it, please install jupyter and then activate widgetsnbextension.\n",
    "# $ pip3 install jupyter\n",
    "# $ [ pip3 install ipywidgets ]\n",
    "# $ jupyter nbextension enable --py widgetsnbextension\n",
    "# Then one can run this sample\n",
    "# $ jupyter-notebook plot.ipynb\n",
    "\n",
    "%matplotlib inline\n",
    "import numpy as np\n",
    "import matplotlib.pyplot as plt\n",
    "import glob\n",
    "from ipywidgets import interact\n",
    "\n",
    "labels={\"x\":0,\"y\":1,\"Density\":2,\"Pressure\":3,\"vx\":4,\"vy\":5,\"vz\":6,\"ux\":7,\"uy\":8,\"uz\":9,\"u0\":10,\"Bx\":11,\"By\":12,\"Bz\":13,\"Ex\":14,\"Ey\":15,\"Ez\":16,\"Total pressure\":17}\n",
    "colors=['r','g','b']\n",
    "markers=['o','s','.']\n",
    "linestyles=['--','-.','-']\n",
    "datalist = sorted(glob.glob('data/x-?????.dat')) # filelist (regular expression)\n",
    "\n",
    "@interact (inputdata=datalist,xlabel=labels,ylabel=labels,color=colors,marker=markers,linestyle=linestyles)\n",
    "def plot(inputdata,xlabel=0,ylabel=3,color='b',marker='o',linestyle='-'):\n",
    "    # reading the data...\n",
    "    data = np.loadtxt(inputdata)\n",
    "    # plot\n",
    "    plt.plot(data[:,xlabel],data[:,ylabel],color=color,marker=marker,linestyle=linestyle)\n",
    "    labelnames = list(labels.keys())\n",
    "    plt.xlabel(labelnames[xlabel])\n",
    "    plt.ylabel(labelnames[ylabel])\n",
    "    #plt.savefig(\"output.png\")"
   ]
  },
  {
   "cell_type": "code",
   "execution_count": null,
   "metadata": {},
   "outputs": [],
   "source": []
  }
 ],
 "metadata": {
  "kernelspec": {
   "display_name": "Python 3",
   "language": "python",
   "name": "python3"
  },
  "language_info": {
   "codemirror_mode": {
    "name": "ipython",
    "version": 3
   },
   "file_extension": ".py",
   "mimetype": "text/x-python",
   "name": "python",
   "nbconvert_exporter": "python",
   "pygments_lexer": "ipython3",
   "version": "3.7.3"
  },
  "toc": {
   "base_numbering": 1,
   "nav_menu": {},
   "number_sections": true,
   "sideBar": true,
   "skip_h1_title": false,
   "title_cell": "Table of Contents",
   "title_sidebar": "Contents",
   "toc_cell": false,
   "toc_position": {},
   "toc_section_display": true,
   "toc_window_display": false
  }
 },
 "nbformat": 4,
 "nbformat_minor": 2
}
